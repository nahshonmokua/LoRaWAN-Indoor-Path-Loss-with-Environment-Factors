version https://git-lfs.github.com/spec/v1
oid sha256:b852252e347af484c1ee9980a041f888f63c44216cecd2bdcbd0c9def2bbbf85
size 3431

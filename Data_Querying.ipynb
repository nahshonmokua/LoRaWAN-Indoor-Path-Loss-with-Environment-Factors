version https://git-lfs.github.com/spec/v1
oid sha256:5346d0c44243907cb15542ffe700bc452f6b5329380ce44b5deda4ba9a26dc81
size 3438

{
 "cells": [
  {
   "cell_type": "markdown",
   "id": "f0731ebb-947f-42f6-b67f-746cac323711",
   "metadata": {},
   "source": [
    "<p style=\"font-family: 'Courier New', Courier, monospace; font-size: 40px; font-weight: bold; color: blue;  text-align: center;\">\n",
    "  LoRaWAN Path Loss Measurements in an Indoor Setting: DATA QUERYING from InfluxdB\n",
    "</p>"
   ]
  },
  {
   "cell_type": "code",
   "execution_count": 2,
   "id": "dd095349-cb50-420e-8979-3d19480d23c3",
   "metadata": {},
   "outputs": [],
   "source": [
    "# Libraries/Packages Used:\n",
    "\n",
    "import pandas as pd  # For data manipulation and handling timezones\n",
    "from influxdb import InfluxDBClient  # To interact with InfluxDB, a time-series database"
   ]
  },
  {
   "cell_type": "code",
   "execution_count": 3,
   "id": "59b4cc09-0039-48fc-84d6-dc6b835ebee6",
   "metadata": {},
   "outputs": [],
   "source": [
    "# InfluxDB connection parameters\n",
    "host = 'xx.xx.xx.xx'\n",
    "port = xxxx\n",
    "database = 'xxxx'"
   ]
  },
  {
   "cell_type": "code",
   "execution_count": 4,
   "id": "59c05d05-73f8-4769-bbca-073567441489",
   "metadata": {},
   "outputs": [],
   "source": [
    "def fetch_data(start_time, end_time):\n",
    "    \"\"\"\n",
    "    Fetch sensor data from InfluxDB between specified start and end times.\n",
    "    \n",
    "    Converts input times from Europe/Berlin to UTC for querying, then back to Europe/Berlin for use.\n",
    "    Returns data as a pandas DataFrame for analysis.\n",
    "    \"\"\"\n",
    "    client = InfluxDBClient(host=host, port=port)\n",
    "    client.switch_database(database)\n",
    "\n",
    "    # Convert input times (Europe/Berlin) to UTC for the query\n",
    "    start_time_utc = pd.to_datetime(start_time).tz_localize('Europe/Berlin').tz_convert('UTC').strftime('%Y-%m-%dT%H:%M:%SZ')\n",
    "    end_time_utc = pd.to_datetime(end_time).tz_localize('Europe/Berlin').tz_convert('UTC').strftime('%Y-%m-%dT%H:%M:%SZ')\n",
    "\n",
    "    # Query with the provided start_time and end_time in UTC\n",
    "    query = f\"SELECT * FROM sensor_data WHERE time >= '{start_time_utc}' AND time <= '{end_time_utc}'\"\n",
    "    \n",
    "    result = client.query(query)\n",
    "    df = pd.DataFrame(list(result.get_points()))\n",
    "    \n",
    "    if not df.empty:\n",
    "        # Convert time back to Europe/Berlin timezone\n",
    "        df['time'] = pd.to_datetime(df['time']).dt.tz_convert('Europe/Berlin')\n",
    "    \n",
    "    return df\n",
    "\n",
    "# Selecting Time Limits for the Data\n",
    "# Time Limit:\n",
    "start_time = '2024-08-12 11:00:00'  # Berlin time\n",
    "end_time = '2024-09-04 10:00:00'  # Berlin time\n",
    "\n",
    "# Fetching data from InfluxDB\n",
    "new_df = fetch_data(start_time, end_time)\n",
    "\n",
    "# Save the combined DataFrame to a local CSV file\n",
    "new_df.to_csv('combined_measurements_data.csv', index=False)"
   ]
  }
 ],
 "metadata": {
  "kernelspec": {
   "display_name": "Python 3 (ipykernel)",
   "language": "python",
   "name": "python3"
  },
  "language_info": {
   "codemirror_mode": {
    "name": "ipython",
    "version": 3
   },
   "file_extension": ".py",
   "mimetype": "text/x-python",
   "name": "python",
   "nbconvert_exporter": "python",
   "pygments_lexer": "ipython3",
   "version": "3.11.7"
  }
 },
 "nbformat": 4,
 "nbformat_minor": 5
}
